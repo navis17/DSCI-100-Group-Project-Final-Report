{
 "cells": [
  {
   "cell_type": "markdown",
   "id": "cb880cec-38e8-4788-971b-4267d2be74e1",
   "metadata": {},
   "source": [
    "# **Using Players' Age & Gameplay Hours to Predict Player Newsletter Subscriptions.**\n",
    "\n",
    "\n",
    "\n"
   ]
  },
  {
   "cell_type": "markdown",
   "id": "2bf8be1f-2810-4624-821a-2d69840c304c",
   "metadata": {},
   "source": [
    "## **Introduction**\n"
   ]
  },
  {
   "cell_type": "markdown",
   "id": "f8e70cd4-5e88-4d42-acc5-7c718908ea51",
   "metadata": {},
   "source": [
    "In the world of gaming, understanding player behaviour is significant when it comes to both the assessment and improvement of video gaming platforms. Companies are interested in seeing what player characteristics predict their subscription towards game-related newsletters. As a group, we decided to explore the question: **Can an active player's age and gameplay hours predict their newsletter subscriptions?**.\n",
    "\n",
    "According to Tarng et al. (2008), a case study performed on World of Warcraft players produced data that demonstrated how players' gameplay hours predicted long-term subscription towards the game. This highlighted how player engagement was an indicator towards  subscription behaviour. \n",
    "\n",
    "To further investigate this, we used the `players.csv`file collected from a Minecraft server hosted by a Comp Sci research group at UBC led by Frank Wood, whose goal is to analyze how players navigate video games. The `players.csv` file \n",
    "contained data of individuals' experience level (e.g, Beginner, Veteran, Pro), whether or not they were subscribed, age, hours played, and gender. We specifically narrowed our predictor variables based on age and played hours to determine its relationship with players' game-related newsletter subscriptions. We chose to focus on individuals who are active on the server, e.i. have a play time over 0 hours. This allows us to focus on predicting the behaviours of players who are actually using the server. The following are the columns used in our dataset:\n",
    "\n",
    "1. **experience**: player experience (e.g, Pro, Veteran, Amateur, Beginner) \n",
    "2. **subscribe**: whether or not a player is subscribed (target variable)  \n",
    "3. **played_hours**: player's total hours played (main predictor)\n",
    "4. **Age**: player's age (main predictor)\n",
    "5. **Count**: amount of players in each category (shows how many are subscribed vs. not subscribed) \n",
    "6. **Percentage**: proportion of players in each category (shows proportion of subscribed vs. unsubscribed players)\n",
    "\n",
    "From the list above, we are using `played_hours` and `Age`\n",
    "as our main predictors.\n",
    "\n",
    "   \n",
    "\n",
    "\n",
    "\n",
    "\n",
    "\n",
    "\n",
    "\n"
   ]
  },
  {
   "cell_type": "markdown",
   "id": "7316585a-861a-49f8-bbfc-9aab7a67d67c",
   "metadata": {},
   "source": []
  }
 ],
 "metadata": {
  "kernelspec": {
   "display_name": "R",
   "language": "R",
   "name": "ir"
  },
  "language_info": {
   "codemirror_mode": "r",
   "file_extension": ".r",
   "mimetype": "text/x-r-source",
   "name": "R",
   "pygments_lexer": "r",
   "version": "4.3.3"
  }
 },
 "nbformat": 4,
 "nbformat_minor": 5
}
